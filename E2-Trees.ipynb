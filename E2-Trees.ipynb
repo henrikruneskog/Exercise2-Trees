{
 "cells": [
  {
   "cell_type": "markdown",
   "id": "2ac60b09",
   "metadata": {},
   "source": [
    "# Exercise 2 - Trees\n",
    "Vi ska använda tre modeller för att avgöra om en person överlever Titanic eller inte\n",
    "Uppgift:\n",
    "1. Använd din preparerade datafil från föregånede Exercise 1, alternativt använd den förpreparerade titanic.csv-filen.\n",
    "2. Välj ut och skapa dina egna features\n",
    "3. Dela upp ditt dataset i träning och test"
   ]
  },
  {
   "cell_type": "code",
   "execution_count": 1,
   "id": "d253b229",
   "metadata": {},
   "outputs": [],
   "source": [
    "import pandas as pd\n",
    "from sklearn.model_selection import train_test_split\n",
    "df = pd.read_csv('titanic.csv')"
   ]
  },
  {
   "cell_type": "markdown",
   "id": "c9cb4877",
   "metadata": {},
   "source": [
    "## Decision Tree\n",
    "1. Använd ett decision tree, en random forest och XGBoost för att skapa predictions\n",
    "2. Plotta trädet för att se hur det ser ut. Går det att förstå något?"
   ]
  },
  {
   "cell_type": "code",
   "execution_count": 6,
   "id": "b34f7feb",
   "metadata": {},
   "outputs": [],
   "source": [
    "from sklearn.tree import DecisionTreeClassifier\n",
    "from sklearn.tree import plot_tree\n",
    "import matplotlib.pyplot as plt\n",
    "from sklearn.metrics import accuracy_score\n",
    "model = DecisionTreeClassifier() # optimize! Can we do it better?"
   ]
  },
  {
   "cell_type": "markdown",
   "id": "850a3fcc",
   "metadata": {},
   "source": [
    "## Random Forest\n",
    "1. Använd en random forest för att skapa predictions.\n",
    "2. Är denna bättre än vårt Decision Tree?\n",
    "3. En RandomForest-modell består av flera DecisionTrees. Dessa går att få fram genom model_forest.estimators_. Plotta de 5 första träden i vår RandomForest för att se hur det ser ut. Går det att förstå något?"
   ]
  },
  {
   "cell_type": "code",
   "execution_count": 9,
   "id": "7c2abe98",
   "metadata": {},
   "outputs": [
    {
     "name": "stderr",
     "output_type": "stream",
     "text": [
      "/var/folders/t3/c9yl4b8s3fd5vzr9v1gp94ym0000gp/T/ipykernel_26632/1013424532.py:3: DataConversionWarning: A column-vector y was passed when a 1d array was expected. Please change the shape of y to (n_samples,), for example using ravel().\n",
      "  model_forest.fit(X_train, y_train)\n"
     ]
    }
   ],
   "source": [
    "from sklearn.ensemble import RandomForestClassifier\n",
    "model_forest = RandomForestClassifier() # optimize! Can we do it better?"
   ]
  },
  {
   "cell_type": "markdown",
   "id": "19191cf5",
   "metadata": {},
   "source": [
    "## XGBoost\n",
    "1. Använd en XGBoostClassifier för att skapa predictions.\n",
    "2. Är denna bättre än vårt Decision Tree och RandomForest?\n",
    "3. Använd from xgboost import plot_tree för att plotta vår XGBoostClassifier för att se hur det ser ut. Går det att förstå något?"
   ]
  },
  {
   "cell_type": "code",
   "execution_count": 12,
   "id": "36b11ccc",
   "metadata": {},
   "outputs": [],
   "source": [
    "import xgboost as xgb\n",
    "from xgboost import plot_tree\n",
    "model_XGB = xgb.XGBClassifier() # optimize! Can we do it better?"
   ]
  }
 ],
 "metadata": {
  "kernelspec": {
   "display_name": "Python 3 (ipykernel)",
   "language": "python",
   "name": "python3"
  },
  "language_info": {
   "codemirror_mode": {
    "name": "ipython",
    "version": 3
   },
   "file_extension": ".py",
   "mimetype": "text/x-python",
   "name": "python",
   "nbconvert_exporter": "python",
   "pygments_lexer": "ipython3",
   "version": "3.8.11"
  }
 },
 "nbformat": 4,
 "nbformat_minor": 5
}
